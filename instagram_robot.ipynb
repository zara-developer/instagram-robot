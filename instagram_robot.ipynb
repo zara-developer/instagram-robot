{
 "cells": [
  {
   "cell_type": "code",
   "execution_count": null,
   "metadata": {},
   "outputs": [],
   "source": [
    "from selenium import webdriver\n",
    "from selenium.webdriver.support.ui import WebDriverWait\n",
    "from selenium.webdriver.support import expected_conditions as EC\n",
    "from selenium.webdriver.support.ui import Select\n",
    "from selenium.webdriver.common.keys import Keys\n",
    "from selenium.webdriver.common.by import By\n",
    "from selenium.webdriver.chrome.options import Options\n",
    "\n",
    "import time\n",
    "import random"
   ]
  },
  {
   "cell_type": "code",
   "execution_count": null,
   "metadata": {},
   "outputs": [],
   "source": [
    "\n",
    "PATH=\"C:\\Program Files (x86)\\chromedriver.exe\"\n",
    "\n",
    "chrome_options = Options()\n",
    "chrome_options.add_argument(\"--start-maximized\")\n",
    "chrome_options.add_argument('--disable-gpu')\n",
    "chrome_options.add_argument('--ignore-certificate-errors')\n",
    "chrome_options.add_argument('--ignore-ssl-errors')"
   ]
  },
  {
   "cell_type": "code",
   "execution_count": null,
   "metadata": {},
   "outputs": [],
   "source": [
    "class Bot:\n",
    "    def __init__(self):\n",
    "        self.username=input('Enter username: ')\n",
    "        self.password=input('Enter password: ')\n",
    "        self.pageUrl=input('Enter pageUrl: ')\n",
    "        self.driver=webdriver.Chrome(PATH,options=chrome_options)\n",
    "        \n",
    "    def Login(self):\n",
    "        driver=self.driver\n",
    "        driver.get('https://www.instagram.com/')\n",
    "        driver.maximize_window()\n",
    "        \n",
    "        time.sleep(15)\n",
    "        name=driver.find_element(By.NAME,'username').send_keys(self.username)\n",
    "        pas=driver.find_element(By.NAME,'password').send_keys(self.password)\n",
    "        btn_log=driver.find_element(By.CSS_SELECTOR,'button[type=\"submit\"]').click()\n",
    "        time.sleep(15)\n",
    "\n",
    "        \n",
    "    def Like(self):\n",
    "        driver=self.driver\n",
    "        time.sleep(2)\n",
    "        driver.get(self.pageUrl)\n",
    "        time.sleep(8)\n",
    "        post=driver.find_elements(By.CSS_SELECTOR,\"div[class*='_ac7v _aang']\")[0].find_elements(By.CSS_SELECTOR,\"div[class*='_aabd _aa8k _aanf']\")[0].click()\n",
    "        print(post)\n",
    "        i=1\n",
    "        while i<=5 :\n",
    "            time.sleep(5)\n",
    "            if(driver.find_elements(By.XPATH,'//*[contains(@aria-label,\"Unlike\")]')):\n",
    "                time.sleep(8)\n",
    "                driver.find_element(By.XPATH,'//*[contains(@aria-label,\"Next\")]').click()\n",
    "            elif driver.find_elements(By.XPATH,'//*[contains(@aria-label,\"Like\")]'):\n",
    "                time.sleep(5)\n",
    "                driver.find_element(By.CLASS_NAME,'_aamw').click()\n",
    "                time.sleep(5)\n",
    "                driver.find_element(By.XPATH,'//*[contains(@aria-label,\"Next\")]').click()\n",
    "            i+=1\n",
    "        driver.get(self.pageUrl)\n",
    "\n",
    "        \n",
    "    def follow(self):\n",
    "        driver=self.driver\n",
    "        driver.get(self.pageUrl)\n",
    "        time.sleep(15)\n",
    "        \n",
    "        liked=driver.find_elements(By.CSS_SELECTOR,\"div[class*='_ac7v _aang']\")[0].find_elements(By.CSS_SELECTOR,\"div[class*='_aabd _aa8k _aanf']\")[0].find_elements(By.CSS_SELECTOR,\"a\")[0].get_attribute('href')\n",
    "        \n",
    "        time.sleep(10)\n",
    "        liked=str(liked)+'liked_by/'\n",
    "        # print(liked)\n",
    "        driver.get(liked)\n",
    "        time.sleep(10)\n",
    "\n",
    "\n",
    "        users_follow=driver.find_elements(By.CSS_SELECTOR,\"div[class*='_aacl _aaco _aacw _aad6 _aade']\")\n",
    "        time.sleep(10)\n",
    "\n",
    "        for user in users_follow:\n",
    "            # print(user.text)\n",
    "            if user.text=='Follow':\n",
    "                user.click()\n",
    "            time.sleep(1000)\n",
    "            "
   ]
  },
  {
   "cell_type": "code",
   "execution_count": null,
   "metadata": {},
   "outputs": [],
   "source": [
    "test=Bot()\n",
    "test.Login()\n",
    "# test.Like()\n",
    "test.follow()"
   ]
  }
 ],
 "metadata": {
  "kernelspec": {
   "display_name": "Python 3.9.6 ('.venvtst')",
   "language": "python",
   "name": "python3"
  },
  "language_info": {
   "codemirror_mode": {
    "name": "ipython",
    "version": 3
   },
   "file_extension": ".py",
   "mimetype": "text/x-python",
   "name": "python",
   "nbconvert_exporter": "python",
   "pygments_lexer": "ipython3",
   "version": "3.9.6"
  },
  "vscode": {
   "interpreter": {
    "hash": "d72ba36e62e13d9ebb4b583da252e0121bf6be4ed91106779e997a18b381453e"
   }
  }
 },
 "nbformat": 4,
 "nbformat_minor": 4
}
